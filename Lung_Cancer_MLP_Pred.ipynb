{
  "nbformat": 4,
  "nbformat_minor": 0,
  "metadata": {
    "colab": {
      "provenance": [],
      "mount_file_id": "1djQBXdgAHaxrBneSgUWbX4FnceVF5lLV",
      "authorship_tag": "ABX9TyMfKGBo8yd9a58nMdpqCYSk",
      "include_colab_link": true
    },
    "kernelspec": {
      "name": "python3",
      "display_name": "Python 3"
    },
    "language_info": {
      "name": "python"
    }
  },
  "cells": [
    {
      "cell_type": "markdown",
      "metadata": {
        "id": "view-in-github",
        "colab_type": "text"
      },
      "source": [
        "<a href=\"https://colab.research.google.com/github/barkhahbpp/sistem-cerdas/blob/main/Lung_Cancer_MLP_Pred.ipynb\" target=\"_parent\"><img src=\"https://colab.research.google.com/assets/colab-badge.svg\" alt=\"Open In Colab\"/></a>"
      ]
    },
    {
      "cell_type": "markdown",
      "source": [
        "# Prediksi Lung Cancer dengan Menggunakan MLP #\n",
        "\n",
        "Dataset : https://www.kaggle.com/datasets/thedevastator/cancer-patients-and-air-pollution-a-new-link"
      ],
      "metadata": {
        "id": "pVYcrriuogjE"
      }
    },
    {
      "cell_type": "markdown",
      "source": [
        "## Load Dataset ##\n",
        "\n",
        "|Field name|Description|\n",
        "|--- |--- |\n",
        "|Age\t|The age of the patient. (Numeric)|\n",
        "|Gender\t|The gender of the patient. (Categorical)|\n",
        "|Air |Pollution\tThe level of air pollution exposure of the patient. (Categorical)|\n",
        "|Alcohol use\t|The level of alcohol use of the patient. (Categorical)|\n",
        "|Dust Allergy\t|The level of dust allergy of the patient. (Categorical)|\n",
        "|OccuPational Hazards\t|The level of occupational hazards of the patient. (Categorical)|\n",
        "|Genetic Risk\t|The level of genetic risk of the patient. (Categorical)|\n",
        "|chronic Lung |Disease\tThe level of chronic lung disease of the patient. (Categorical)|\n",
        "|Balanced Diet\t|The level of balanced diet of the patient. (Categorical)|\n",
        "|Obesity\t|The level of obesity of the patient. (Categorical)|\n",
        "|Smoking\t|The level of smoking of the patient. (Categorical)|\n",
        "|Passive Smoker\t|The level of passive smoker of the patient. (Categorical)|\n",
        "|Chest Pain\t|The level of chest pain of the patient. (Categorical)|\n",
        "|Coughing of Blood\t|The level of coughing of blood of the patient. (Categorical)|\n",
        "|Fatigue\t|The level of fatigue of the patient. (Categorical)|\n",
        "|Weight Loss\t|The level of weight loss of the patient. (Categorical)|\n",
        "|Shortness of Breath\t|The level of shortness of breath of the patient. (Categorical)|\n",
        "|Wheezing\t|The level of wheezing of the patient. (Categorical)|\n",
        "|Swallowing Difficulty\t|The level of swallowing difficulty of the patient. (Categorical)|\n",
        "|Clubbing of Finger Nails\t|The level of clubbing of finger nails of the patient. (Categorical)|"
      ],
      "metadata": {
        "id": "wgTKB61kozAc"
      }
    },
    {
      "cell_type": "code",
      "execution_count": 3,
      "metadata": {
        "colab": {
          "base_uri": "https://localhost:8080/"
        },
        "id": "JZSXS6d9hoBg",
        "outputId": "88f92ddd-2030-4c2e-9ffe-7a71acdc3a28"
      },
      "outputs": [
        {
          "output_type": "stream",
          "name": "stdout",
          "text": [
            "Mounted at /content/gdrive\n"
          ]
        }
      ],
      "source": [
        "from google.colab import drive\n",
        "drive.mount('/content/gdrive')"
      ]
    },
    {
      "cell_type": "code",
      "source": [
        "import numpy as np\n",
        "import pandas as pd\n",
        "import matplotlib.pyplot as plt\n",
        "import seaborn as sns\n",
        "from sklearn.model_selection import train_test_split"
      ],
      "metadata": {
        "id": "oW9MuP8KkY8E"
      },
      "execution_count": 2,
      "outputs": []
    },
    {
      "cell_type": "code",
      "source": [
        "lungCr_df = pd.read_csv('gdrive/MyDrive/Colab Notebooks/cancer patient data sets.csv')\n",
        "lungCr_df.info()"
      ],
      "metadata": {
        "colab": {
          "base_uri": "https://localhost:8080/"
        },
        "id": "TvTcF3cpnvw1",
        "outputId": "60395f98-902a-4850-dd36-4d9b9ce15b46"
      },
      "execution_count": 5,
      "outputs": [
        {
          "output_type": "stream",
          "name": "stdout",
          "text": [
            "<class 'pandas.core.frame.DataFrame'>\n",
            "RangeIndex: 1000 entries, 0 to 999\n",
            "Data columns (total 26 columns):\n",
            " #   Column                    Non-Null Count  Dtype \n",
            "---  ------                    --------------  ----- \n",
            " 0   index                     1000 non-null   int64 \n",
            " 1   Patient Id                1000 non-null   object\n",
            " 2   Age                       1000 non-null   int64 \n",
            " 3   Gender                    1000 non-null   int64 \n",
            " 4   Air Pollution             1000 non-null   int64 \n",
            " 5   Alcohol use               1000 non-null   int64 \n",
            " 6   Dust Allergy              1000 non-null   int64 \n",
            " 7   OccuPational Hazards      1000 non-null   int64 \n",
            " 8   Genetic Risk              1000 non-null   int64 \n",
            " 9   chronic Lung Disease      1000 non-null   int64 \n",
            " 10  Balanced Diet             1000 non-null   int64 \n",
            " 11  Obesity                   1000 non-null   int64 \n",
            " 12  Smoking                   1000 non-null   int64 \n",
            " 13  Passive Smoker            1000 non-null   int64 \n",
            " 14  Chest Pain                1000 non-null   int64 \n",
            " 15  Coughing of Blood         1000 non-null   int64 \n",
            " 16  Fatigue                   1000 non-null   int64 \n",
            " 17  Weight Loss               1000 non-null   int64 \n",
            " 18  Shortness of Breath       1000 non-null   int64 \n",
            " 19  Wheezing                  1000 non-null   int64 \n",
            " 20  Swallowing Difficulty     1000 non-null   int64 \n",
            " 21  Clubbing of Finger Nails  1000 non-null   int64 \n",
            " 22  Frequent Cold             1000 non-null   int64 \n",
            " 23  Dry Cough                 1000 non-null   int64 \n",
            " 24  Snoring                   1000 non-null   int64 \n",
            " 25  Level                     1000 non-null   object\n",
            "dtypes: int64(24), object(2)\n",
            "memory usage: 203.2+ KB\n"
          ]
        }
      ]
    }
  ]
}